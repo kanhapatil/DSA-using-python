{
 "cells": [
  {
   "cell_type": "markdown",
   "id": "0e691fe9",
   "metadata": {},
   "source": [
    "### Create a tree"
   ]
  },
  {
   "cell_type": "code",
   "execution_count": 130,
   "id": "a9ccff74",
   "metadata": {},
   "outputs": [],
   "source": [
    "class BST:\n",
    "    def __init__(self, key):\n",
    "        self.left = None\n",
    "        self.key = key\n",
    "        self.right = None\n",
    "        \n",
    "    def insert(self, data):\n",
    "        if self.key is None:\n",
    "            self.key = data\n",
    "            return\n",
    "        \n",
    "        if self.key > data:\n",
    "            if self.left:\n",
    "                self.left.insert(data)\n",
    "            else:\n",
    "                self.left = BST(data)\n",
    "        else:\n",
    "            if self.right:\n",
    "                self.right.insert(data)\n",
    "            else:\n",
    "                self.right = BST(data)\n",
    "                \n",
    "                \n",
    "# Create an object of class\n",
    "root = BST(10)\n",
    "\n",
    "list1 = [5, 15, 4, 6]\n",
    "\n",
    "# Insert the element in tree\n",
    "for i in list1:\n",
    "    root.insert(i)"
   ]
  },
  {
   "cell_type": "markdown",
   "id": "e6f1a432",
   "metadata": {},
   "source": [
    "### Level order traversal"
   ]
  },
  {
   "cell_type": "code",
   "execution_count": 108,
   "id": "01d38406",
   "metadata": {},
   "outputs": [],
   "source": [
    "class BST:\n",
    "    def __init__(self, key):\n",
    "        self.left = None\n",
    "        self.key = key\n",
    "        self.right = None\n",
    "        \n",
    "    def insert(self, data):\n",
    "        if self.key is None:\n",
    "            self.key = data\n",
    "            return\n",
    "        \n",
    "        if self.key > data:\n",
    "            if self.left:\n",
    "                self.left.insert(data)\n",
    "            else:\n",
    "                self.left = BST(data)\n",
    "        else:\n",
    "            if self.right:\n",
    "                self.right.insert(data)\n",
    "            else:\n",
    "                self.right = BST(data)\n",
    "                \n",
    "    ## Level order traversal\n",
    "    def levelOrder(self):\n",
    "        queue = [self]\n",
    "        ans = []\n",
    "            \n",
    "        while queue:\n",
    "            temp = queue.pop(0)\n",
    "            ans.append(temp.key)\n",
    "            \n",
    "            if(temp.left):\n",
    "                queue.append(temp.left)\n",
    "            if(temp.right):\n",
    "                queue.append(temp.right)\n",
    "                \n",
    "        return ans\n",
    "            \n",
    "        \n",
    "# Create an object of class\n",
    "root = BST(10)\n",
    "\n",
    "list1 = [5, 15, 3, 4, 12, 16]\n",
    "\n",
    "# Insert the element in tree\n",
    "for i in list1:\n",
    "    root.insert(i)"
   ]
  },
  {
   "cell_type": "code",
   "execution_count": 109,
   "id": "c0f893cf",
   "metadata": {},
   "outputs": [
    {
     "data": {
      "text/plain": [
       "[10, 5, 15, 3, 12, 16, 4]"
      ]
     },
     "execution_count": 109,
     "metadata": {},
     "output_type": "execute_result"
    }
   ],
   "source": [
    "root.levelOrder()"
   ]
  },
  {
   "cell_type": "markdown",
   "id": "9e126a79",
   "metadata": {},
   "source": [
    "### Size of binary tree"
   ]
  },
  {
   "cell_type": "code",
   "execution_count": 260,
   "id": "1fb1a990",
   "metadata": {},
   "outputs": [],
   "source": [
    "class BST:\n",
    "    def __init__(self, key):\n",
    "        self.left = None\n",
    "        self.key = key\n",
    "        self.right = None\n",
    "        \n",
    "    def insert(self, data):\n",
    "        if self.key is None:\n",
    "            self.key = data\n",
    "            return\n",
    "        \n",
    "        if self.key > data:\n",
    "            if self.left:\n",
    "                self.left.insert(data)\n",
    "            else:\n",
    "                self.left = BST(data)\n",
    "        else:\n",
    "            if self.right:\n",
    "                self.right.insert(data)\n",
    "            else:\n",
    "                self.right = BST(data)\n",
    "                \n",
    "                \n",
    "    ## Size of binary tree (count the number of nodes)\n",
    "    ## Method 1\n",
    "    def countNodes(self):\n",
    "        # Base case\n",
    "        if self is None:\n",
    "            return 0\n",
    "        \n",
    "        count = 1\n",
    "        \n",
    "        if self.left:\n",
    "            count += self.left.countNodes()\n",
    "        \n",
    "        if self.right:\n",
    "            count += self.right.countNodes()\n",
    "            \n",
    "        return count\n",
    "    \n",
    "    ## Method 2\n",
    "    def countNodes2(self):\n",
    "        if self is None:\n",
    "            return 0\n",
    "        \n",
    "        return 1 + (self.left.countNodes2() if self.left else 0) + (self.right.countNodes2() if self.right else 0)\n",
    "            \n",
    "        \n",
    "# Create an object of class\n",
    "root = BST(10)\n",
    "\n",
    "list1 = [5, 15, 3, 4, 12, 16]\n",
    "\n",
    "# Insert the element in tree\n",
    "for i in list1:\n",
    "    root.insert(i)"
   ]
  },
  {
   "cell_type": "code",
   "execution_count": 261,
   "id": "9ec15d15",
   "metadata": {},
   "outputs": [
    {
     "data": {
      "text/plain": [
       "7"
      ]
     },
     "execution_count": 261,
     "metadata": {},
     "output_type": "execute_result"
    }
   ],
   "source": [
    "root.countNodes2()"
   ]
  },
  {
   "cell_type": "markdown",
   "id": "d5bd0d38",
   "metadata": {},
   "source": [
    "### Sum of nodes"
   ]
  },
  {
   "cell_type": "code",
   "execution_count": 258,
   "id": "f4ddc036",
   "metadata": {},
   "outputs": [],
   "source": [
    "class BST:\n",
    "    def __init__(self, key):\n",
    "        self.left = None\n",
    "        self.key = key\n",
    "        self.right = None\n",
    "        \n",
    "    def insert(self, data):\n",
    "        if self.key is None:\n",
    "            self.key = data\n",
    "            return\n",
    "        \n",
    "        if self.key > data:\n",
    "            if self.left:\n",
    "                self.left.insert(data)\n",
    "            else:\n",
    "                self.left = BST(data)\n",
    "        else:\n",
    "            if self.right:\n",
    "                self.right.insert(data)\n",
    "            else:\n",
    "                self.right = BST(data)\n",
    "                \n",
    "    ## Sum of nodes\n",
    "    def sumOfNodes(self):\n",
    "        if self is None:\n",
    "            return self.key\n",
    "        \n",
    "        Sum = self.key\n",
    "        \n",
    "        if self.left:\n",
    "            Sum += self.left.sumOfNodes()\n",
    "            \n",
    "        if self.right:\n",
    "            Sum += self.right.sumOfNodes()\n",
    "            \n",
    "        return Sum\n",
    "    \n",
    "    ## Sum of nodes \n",
    "    ## Method 2\n",
    "    def sumOfNodes2(self):\n",
    "        if self is None:\n",
    "            return 0\n",
    "        \n",
    "        return self.key + (self.left.sumOfNodes2() if self.left else 0) + (self.right.sumOfNodes2() if self.right else 0)\n",
    "            \n",
    "        \n",
    "# Create an object of class\n",
    "root = BST(10)\n",
    "\n",
    "list1 = [5, 15, 3, 4, 12, 16]\n",
    "\n",
    "# Insert the element in tree\n",
    "for i in list1:\n",
    "    root.insert(i)"
   ]
  },
  {
   "cell_type": "code",
   "execution_count": 259,
   "id": "2437cbea",
   "metadata": {},
   "outputs": [
    {
     "data": {
      "text/plain": [
       "65"
      ]
     },
     "execution_count": 259,
     "metadata": {},
     "output_type": "execute_result"
    }
   ],
   "source": [
    "root.sumOfNodes2()"
   ]
  },
  {
   "cell_type": "code",
   "execution_count": null,
   "id": "89115242",
   "metadata": {},
   "outputs": [],
   "source": []
  },
  {
   "cell_type": "code",
   "execution_count": null,
   "id": "d1ec2c9e",
   "metadata": {},
   "outputs": [],
   "source": []
  },
  {
   "cell_type": "code",
   "execution_count": null,
   "id": "ccbe78d2",
   "metadata": {},
   "outputs": [],
   "source": []
  }
 ],
 "metadata": {
  "kernelspec": {
   "display_name": "Python 3 (ipykernel)",
   "language": "python",
   "name": "python3"
  },
  "language_info": {
   "codemirror_mode": {
    "name": "ipython",
    "version": 3
   },
   "file_extension": ".py",
   "mimetype": "text/x-python",
   "name": "python",
   "nbconvert_exporter": "python",
   "pygments_lexer": "ipython3",
   "version": "3.9.13"
  }
 },
 "nbformat": 4,
 "nbformat_minor": 5
}
