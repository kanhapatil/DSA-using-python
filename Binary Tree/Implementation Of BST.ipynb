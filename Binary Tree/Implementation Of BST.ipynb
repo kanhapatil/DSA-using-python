{
 "cells": [
  {
   "cell_type": "code",
   "execution_count": 29,
   "id": "bf876c7e",
   "metadata": {},
   "outputs": [],
   "source": [
    "class BST:\n",
    "    def __init__(self, key):\n",
    "        self.key = key\n",
    "        self.lchild = None\n",
    "        self.rchild = None\n",
    "        \n",
    "    def insert(self, data):\n",
    "        if self.key is None:\n",
    "            self.key = data\n",
    "            return\n",
    "        \n",
    "        # Ignore duplicate values\n",
    "        if self.key == data:\n",
    "            return\n",
    "        \n",
    "        if self.key > data:\n",
    "            if self.lchild:\n",
    "                self.lchild.insert(data)\n",
    "            else:\n",
    "                self.lchild = BST(data)\n",
    "        else:\n",
    "            if self.rchild:\n",
    "                self.rchild.insert(data)\n",
    "            else:\n",
    "                self.rchild = BST(data)\n",
    "                \n",
    "                \n",
    "root = BST(10)\n",
    "\n",
    "list1 = [20, 4, 30, 4, 1, 5, 6]\n",
    "\n",
    "for i in list1:\n",
    "    root.insert(i)"
   ]
  },
  {
   "cell_type": "code",
   "execution_count": 46,
   "id": "a077b8b7",
   "metadata": {},
   "outputs": [
    {
     "name": "stdout",
     "output_type": "stream",
     "text": [
      "10\n",
      "4\n",
      "20\n",
      "1\n",
      "30\n",
      "5\n",
      "6\n"
     ]
    }
   ],
   "source": [
    "print(root.key) \n",
    "print(root.lchild.key)  \n",
    "print(root.rchild.key) \n",
    "print(root.lchild.lchild.key)\n",
    "print(root.rchild.rchild.key)\n",
    "print(root.lchild.rchild.key)\n",
    "print(root.lchild.rchild.rchild.key)"
   ]
  },
  {
   "cell_type": "code",
   "execution_count": 28,
   "id": "bf640919",
   "metadata": {},
   "outputs": [],
   "source": []
  },
  {
   "cell_type": "code",
   "execution_count": null,
   "id": "dd00dccb",
   "metadata": {},
   "outputs": [],
   "source": []
  },
  {
   "cell_type": "code",
   "execution_count": 21,
   "id": "e3c41ef1",
   "metadata": {},
   "outputs": [],
   "source": []
  },
  {
   "cell_type": "code",
   "execution_count": null,
   "id": "e3058ef4",
   "metadata": {},
   "outputs": [],
   "source": []
  }
 ],
 "metadata": {
  "kernelspec": {
   "display_name": "Python 3 (ipykernel)",
   "language": "python",
   "name": "python3"
  },
  "language_info": {
   "codemirror_mode": {
    "name": "ipython",
    "version": 3
   },
   "file_extension": ".py",
   "mimetype": "text/x-python",
   "name": "python",
   "nbconvert_exporter": "python",
   "pygments_lexer": "ipython3",
   "version": "3.9.13"
  }
 },
 "nbformat": 4,
 "nbformat_minor": 5
}
