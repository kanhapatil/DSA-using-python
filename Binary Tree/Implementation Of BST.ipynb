{
 "cells": [
  {
   "cell_type": "code",
   "execution_count": 132,
   "id": "3124c297",
   "metadata": {},
   "outputs": [],
   "source": [
    "class BST:\n",
    "    def __init__(self, key):\n",
    "        self.key = key\n",
    "        self.lchild = None\n",
    "        self.rchild = None\n",
    "        \n",
    "    def insert(self, data):\n",
    "        if self.key is None:\n",
    "            self.key = data\n",
    "            return\n",
    "        \n",
    "        # Ignore duplicate values\n",
    "        if self.key == data:\n",
    "            return\n",
    "        \n",
    "        if self.key > data:\n",
    "            if self.lchild:\n",
    "                # recursive call\n",
    "                self.lchild.insert(data)\n",
    "            else:\n",
    "                self.lchild = BST(data)\n",
    "        else:\n",
    "            if self.rchild:\n",
    "                # recursive call\n",
    "                self.rchild.insert(data)\n",
    "            else:\n",
    "                self.rchild = BST(data)\n",
    "                \n",
    "    def search(self, data):\n",
    "        if self.key == data:\n",
    "            print(\"Node found\", self.key)\n",
    "            return\n",
    "        \n",
    "        # check node in left side\n",
    "        if self.key > data:\n",
    "            if self.lchild:\n",
    "                self.lchild.search(data)\n",
    "            else:\n",
    "                print(\"Not found\")\n",
    "                \n",
    "        # check node in right side\n",
    "        else:\n",
    "            if self.rchild:\n",
    "                self.rchild.search(data)\n",
    "            else:\n",
    "                print(\"Not found\")\n",
    "                \n",
    "    def preorder(self):\n",
    "        print(self.key, end=\" \")\n",
    "        \n",
    "        if self.lchild:\n",
    "            self.lchild.preorder()\n",
    "        \n",
    "        if self.rchild:\n",
    "            self.rchild.preorder()\n",
    "            \n",
    "    def inorder(self):\n",
    "        if self.lchild:\n",
    "            self.lchild.inorder()\n",
    "            \n",
    "        print(self.key, end=\" \")\n",
    "        \n",
    "        if self.rchild:\n",
    "            self.rchild.inorder()\n",
    "    \n",
    "    \n",
    "    def postorder(self):\n",
    "        if self.lchild:\n",
    "            self.lchild.postorder()\n",
    "        \n",
    "        if self.rchild:\n",
    "            self.rchild.postorder()\n",
    "            \n",
    "        print(self.key, end=\" \")\n",
    "        \n",
    "    def deletion(self, data):\n",
    "        # first check tree is empty or not\n",
    "        if self.key is None:\n",
    "            print(\"Tree is empty\")\n",
    "            return\n",
    "        \n",
    "        # search a node is present or not\n",
    "    \n",
    "                \n",
    "root = BST(10)\n",
    "\n",
    "list1 = [6, 3, 1, 6, 98, 3, 7]\n",
    "\n",
    "for i in list1:\n",
    "    root.insert(i)"
   ]
  },
  {
   "cell_type": "code",
   "execution_count": 133,
   "id": "0d88b0aa",
   "metadata": {},
   "outputs": [],
   "source": [
    "# print(root.key) \n",
    "# print(root.lchild.key)  \n",
    "# print(root.rchild.key) \n",
    "# print(root.lchild.lchild.key)"
   ]
  },
  {
   "cell_type": "code",
   "execution_count": 134,
   "id": "34f0825c",
   "metadata": {},
   "outputs": [
    {
     "name": "stdout",
     "output_type": "stream",
     "text": [
      "10 6 3 1 7 98 "
     ]
    }
   ],
   "source": [
    "root.preorder()"
   ]
  },
  {
   "cell_type": "code",
   "execution_count": 135,
   "id": "869ca51e",
   "metadata": {},
   "outputs": [
    {
     "name": "stdout",
     "output_type": "stream",
     "text": [
      "1 3 6 7 10 98 "
     ]
    }
   ],
   "source": [
    "root.inorder()"
   ]
  },
  {
   "cell_type": "code",
   "execution_count": 136,
   "id": "dbcc28a6",
   "metadata": {},
   "outputs": [
    {
     "name": "stdout",
     "output_type": "stream",
     "text": [
      "1 3 7 6 98 10 "
     ]
    }
   ],
   "source": [
    "root.postorder()"
   ]
  },
  {
   "cell_type": "code",
   "execution_count": 137,
   "id": "f8cc02ad",
   "metadata": {},
   "outputs": [
    {
     "name": "stdout",
     "output_type": "stream",
     "text": [
      "1 3 6 7 10 98 "
     ]
    },
    {
     "data": {
      "text/plain": [
       "1"
      ]
     },
     "execution_count": 137,
     "metadata": {},
     "output_type": "execute_result"
    }
   ],
   "source": [
    "root.height()"
   ]
  },
  {
   "cell_type": "code",
   "execution_count": null,
   "id": "9cdb7ef3",
   "metadata": {},
   "outputs": [],
   "source": []
  }
 ],
 "metadata": {
  "kernelspec": {
   "display_name": "Python 3 (ipykernel)",
   "language": "python",
   "name": "python3"
  },
  "language_info": {
   "codemirror_mode": {
    "name": "ipython",
    "version": 3
   },
   "file_extension": ".py",
   "mimetype": "text/x-python",
   "name": "python",
   "nbconvert_exporter": "python",
   "pygments_lexer": "ipython3",
   "version": "3.9.13"
  }
 },
 "nbformat": 4,
 "nbformat_minor": 5
}
