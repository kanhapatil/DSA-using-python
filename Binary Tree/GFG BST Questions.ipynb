{
 "cells": [
  {
   "cell_type": "markdown",
   "id": "17c4b20a",
   "metadata": {},
   "source": [
    "### Level order traversal\n",
    "- <a href=\"https://www.geeksforgeeks.org/problems/level-order-traversal/1\" style=\"text-decoration:none\">Click Me</a>"
   ]
  },
  {
   "cell_type": "code",
   "execution_count": 1,
   "id": "80b187b3",
   "metadata": {},
   "outputs": [],
   "source": [
    "class Solution:\n",
    "    #Function to return the level order traversal of a tree.\n",
    "    def levelOrder(self,root):\n",
    "        queue = [root]\n",
    "        ans = []\n",
    "        \n",
    "        while queue:\n",
    "            temp = queue.pop(0)\n",
    "            ans.append(temp.data)\n",
    "            \n",
    "            if temp.left:\n",
    "                queue.append(temp.left)\n",
    "            if temp.right:\n",
    "                queue.append(temp.right)\n",
    "                \n",
    "        return ans"
   ]
  },
  {
   "cell_type": "markdown",
   "id": "dc1c2558",
   "metadata": {},
   "source": []
  }
 ],
 "metadata": {
  "kernelspec": {
   "display_name": "Python 3 (ipykernel)",
   "language": "python",
   "name": "python3"
  },
  "language_info": {
   "codemirror_mode": {
    "name": "ipython",
    "version": 3
   },
   "file_extension": ".py",
   "mimetype": "text/x-python",
   "name": "python",
   "nbconvert_exporter": "python",
   "pygments_lexer": "ipython3",
   "version": "3.9.13"
  }
 },
 "nbformat": 4,
 "nbformat_minor": 5
}
