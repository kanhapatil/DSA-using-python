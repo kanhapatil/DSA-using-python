{
 "cells": [
  {
   "cell_type": "markdown",
   "id": "2c102a00",
   "metadata": {},
   "source": [
    "### 1. Use a quick sort algorithm to sort elements in descending order."
   ]
  },
  {
   "cell_type": "code",
   "execution_count": null,
   "id": "a3b34399",
   "metadata": {},
   "outputs": [],
   "source": []
  },
  {
   "cell_type": "markdown",
   "id": "2dc441fc",
   "metadata": {},
   "source": [
    "### 2. What is a stable algorithm? Find whether Bubble sort, Selection Sort, Insertion Sort, Merge Sort and Quicksort are stable algorithms."
   ]
  },
  {
   "cell_type": "code",
   "execution_count": null,
   "id": "009adf2d",
   "metadata": {},
   "outputs": [],
   "source": []
  },
  {
   "cell_type": "markdown",
   "id": "50f4bed6",
   "metadata": {},
   "source": [
    "### 3. What is an in-place algorithm? Find whether Bubble sort, Selection Sort, Insertion Sort, Merge Sort and Quicksort are in-place algorithms."
   ]
  },
  {
   "cell_type": "code",
   "execution_count": null,
   "id": "95dc72bf",
   "metadata": {},
   "outputs": [],
   "source": []
  }
 ],
 "metadata": {
  "kernelspec": {
   "display_name": "Python 3 (ipykernel)",
   "language": "python",
   "name": "python3"
  },
  "language_info": {
   "codemirror_mode": {
    "name": "ipython",
    "version": 3
   },
   "file_extension": ".py",
   "mimetype": "text/x-python",
   "name": "python",
   "nbconvert_exporter": "python",
   "pygments_lexer": "ipython3",
   "version": "3.9.13"
  }
 },
 "nbformat": 4,
 "nbformat_minor": 5
}
