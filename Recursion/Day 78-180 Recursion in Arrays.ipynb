{
 "cells": [
  {
   "cell_type": "markdown",
   "id": "18a072b1",
   "metadata": {},
   "source": [
    "### 1. Find the Maximum element in a given array of size N."
   ]
  },
  {
   "cell_type": "code",
   "execution_count": 14,
   "id": "d47f2b08",
   "metadata": {},
   "outputs": [
    {
     "data": {
      "text/plain": [
       "8"
      ]
     },
     "execution_count": 14,
     "metadata": {},
     "output_type": "execute_result"
    }
   ],
   "source": [
    "def findMax(arr, n):\n",
    "    # Base case\n",
    "    if(n < 1):\n",
    "        return arr[n-1]\n",
    "    \n",
    "    return max(arr[n-1], findMax(arr, n-1))\n",
    "\n",
    "# Calling function\n",
    "arr = [4, 6, 2, 8]\n",
    "n = len(arr)\n",
    "findMax(arr, n)"
   ]
  },
  {
   "cell_type": "markdown",
   "id": "9cdb95d6",
   "metadata": {},
   "source": [
    "### 2. Find the Product of all elements in a given array of size N."
   ]
  },
  {
   "cell_type": "code",
   "execution_count": 21,
   "id": "6c25280d",
   "metadata": {},
   "outputs": [
    {
     "data": {
      "text/plain": [
       "384"
      ]
     },
     "execution_count": 21,
     "metadata": {},
     "output_type": "execute_result"
    }
   ],
   "source": [
    "def findProduct(arr, n):\n",
    "    # Base case\n",
    "    if(n < 1):\n",
    "        return 1\n",
    "    \n",
    "    return arr[n-1] * findProduct(arr, n-1)\n",
    "    \n",
    "# Calling function\n",
    "arr = [4, 6, 2, 8]\n",
    "n = len(arr)\n",
    "findProduct(arr, n)"
   ]
  },
  {
   "cell_type": "markdown",
   "id": "4336cf58",
   "metadata": {},
   "source": [
    "### 3. Find the Number of even elements in a given array of size N."
   ]
  },
  {
   "cell_type": "code",
   "execution_count": 27,
   "id": "53355798",
   "metadata": {},
   "outputs": [
    {
     "data": {
      "text/plain": [
       "2"
      ]
     },
     "execution_count": 27,
     "metadata": {},
     "output_type": "execute_result"
    }
   ],
   "source": [
    "def findEven(arr, n):\n",
    "    # Base case\n",
    "    if(n < 1):\n",
    "        return 0\n",
    "    \n",
    "    if(arr[n-1] % 2 != 0):\n",
    "        return 1 + findEven(arr, n-1)\n",
    "    else:\n",
    "        return findEven(arr, n-1)\n",
    "\n",
    "# Calling function\n",
    "arr = [1, 4, 6, 2, 8, 5]\n",
    "n = len(arr)\n",
    "findEven(arr, n)"
   ]
  },
  {
   "cell_type": "markdown",
   "id": "d8085ddc",
   "metadata": {},
   "source": [
    "- Find the Maximum element in a given array of size N.\n",
    "- Find the Product of all elements in a given array of size N.\n",
    "- Find the Number of even elements in a given array of size N.\n",
    "- Palindrome String\n",
    "- Lower case to upper case\n",
    "- Convert String to LowerCase\n",
    "- Reverse a String\n",
    "- Given a String, count the number of consonants in it.\n",
    "- Binary search\n",
    "- Write a recursive function to reverse the elements of an array.\n",
    "- Write a recursive function to rotate elements in an array to the right by 1 position."
   ]
  }
 ],
 "metadata": {
  "kernelspec": {
   "display_name": "Python 3 (ipykernel)",
   "language": "python",
   "name": "python3"
  },
  "language_info": {
   "codemirror_mode": {
    "name": "ipython",
    "version": 3
   },
   "file_extension": ".py",
   "mimetype": "text/x-python",
   "name": "python",
   "nbconvert_exporter": "python",
   "pygments_lexer": "ipython3",
   "version": "3.9.13"
  }
 },
 "nbformat": 4,
 "nbformat_minor": 5
}
