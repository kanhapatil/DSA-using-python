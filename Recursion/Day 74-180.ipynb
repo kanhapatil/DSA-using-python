{
 "cells": [
  {
   "cell_type": "markdown",
   "id": "f7035475",
   "metadata": {},
   "source": [
    "### 1. Sum of cubes of N natural numbers using Recursion."
   ]
  },
  {
   "cell_type": "code",
   "execution_count": 19,
   "id": "2f97ba96",
   "metadata": {},
   "outputs": [
    {
     "data": {
      "text/plain": [
       "36"
      ]
     },
     "execution_count": 19,
     "metadata": {},
     "output_type": "execute_result"
    }
   ],
   "source": [
    "def sumOfCubes(n):\n",
    "    # Base case\n",
    "    if(n < 1):\n",
    "        return 0\n",
    "    \n",
    "    return n**3 + sumOfCubes(n-1)\n",
    "\n",
    "# Calling function\n",
    "n = 3\n",
    "sumOfCubes(n)"
   ]
  },
  {
   "cell_type": "markdown",
   "id": "a30243eb",
   "metadata": {},
   "source": [
    "### 2. Power of Four\n",
    "- <a href=\"https://leetcode.com/problems/power-of-four/description/\" style='text-decoration:none'>Click me</a>"
   ]
  },
  {
   "cell_type": "code",
   "execution_count": 15,
   "id": "5c23fe44",
   "metadata": {},
   "outputs": [
    {
     "data": {
      "text/plain": [
       "False"
      ]
     },
     "execution_count": 15,
     "metadata": {},
     "output_type": "execute_result"
    }
   ],
   "source": [
    "def isPowerOfFour(n):\n",
    "    # Base case\n",
    "    if(n == 1):\n",
    "        return True\n",
    "    \n",
    "    # Base case 2\n",
    "    if(n <= 0 or n % 4 != 0):\n",
    "        return False\n",
    "    \n",
    "    return isPowerOfFour(n // 4)\n",
    "\n",
    "# Calling function\n",
    "n = 5\n",
    "isPowerOfFour(n)"
   ]
  },
  {
   "cell_type": "markdown",
   "id": "25c462da",
   "metadata": {},
   "source": [
    "### 3. Given a Number N, check whether it is prime or not using Recursion."
   ]
  },
  {
   "cell_type": "code",
   "execution_count": 35,
   "id": "c7bc678d",
   "metadata": {},
   "outputs": [
    {
     "data": {
      "text/plain": [
       "True"
      ]
     },
     "execution_count": 35,
     "metadata": {},
     "output_type": "execute_result"
    }
   ],
   "source": [
    "def checkPrime(n, divisor):\n",
    "    # Base case 1\n",
    "    if(divisor <= 1):\n",
    "        return True\n",
    "    \n",
    "    # Base case 2\n",
    "    if(n % divisor == 0):\n",
    "        return False\n",
    "    \n",
    "    return checkPrime(n, divisor-1)\n",
    "\n",
    "# Calling function\n",
    "n = 5\n",
    "divisor = n-1\n",
    "checkPrime(n, divisor)"
   ]
  }
 ],
 "metadata": {
  "kernelspec": {
   "display_name": "Python 3 (ipykernel)",
   "language": "python",
   "name": "python3"
  },
  "language_info": {
   "codemirror_mode": {
    "name": "ipython",
    "version": 3
   },
   "file_extension": ".py",
   "mimetype": "text/x-python",
   "name": "python",
   "nbconvert_exporter": "python",
   "pygments_lexer": "ipython3",
   "version": "3.9.13"
  }
 },
 "nbformat": 4,
 "nbformat_minor": 5
}
