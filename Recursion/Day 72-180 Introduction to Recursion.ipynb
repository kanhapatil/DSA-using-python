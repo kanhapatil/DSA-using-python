{
 "cells": [
  {
   "cell_type": "markdown",
   "id": "c4b8754a",
   "metadata": {},
   "source": [
    "### 1. Print “Raja ram” 10 times using recursion"
   ]
  },
  {
   "cell_type": "code",
   "execution_count": 12,
   "id": "50d32441",
   "metadata": {},
   "outputs": [
    {
     "name": "stdout",
     "output_type": "stream",
     "text": [
      "Raja ram, Raja ram, Raja ram, Raja ram, Raja ram, Raja ram, Raja ram, Raja ram, Raja ram, Raja ram, "
     ]
    }
   ],
   "source": [
    "def printRajaram(n):\n",
    "    # Base case \n",
    "    if(n==0):\n",
    "        return\n",
    "\n",
    "    print(\"Raja ram\", end=\", \")\n",
    "    printRajaram(n-1)\n",
    "    \n",
    "# Calling function\n",
    "n = 10\n",
    "printRajaram(10)"
   ]
  },
  {
   "cell_type": "markdown",
   "id": "4525a08d",
   "metadata": {},
   "source": [
    "### 2. Print all odd number from n to 1 using recursion"
   ]
  },
  {
   "cell_type": "code",
   "execution_count": 21,
   "id": "11533f08",
   "metadata": {},
   "outputs": [
    {
     "name": "stdout",
     "output_type": "stream",
     "text": [
      "9, 7, 5, 3, 1, "
     ]
    }
   ],
   "source": [
    "def oddNToOne(n):\n",
    "    # Base case \n",
    "    if(n < 1):\n",
    "        return\n",
    "    \n",
    "    print(n, end=\", \")\n",
    "    oddNToOne(n-2)\n",
    "\n",
    "# Calling function\n",
    "n = 9\n",
    "if(n % 2 != 0):\n",
    "    oddNToOne(n)\n",
    "else:\n",
    "    oddNToOne(n-1)"
   ]
  },
  {
   "cell_type": "markdown",
   "id": "f347a948",
   "metadata": {},
   "source": [
    "### 3. Print all numbers from 1 to n using recursion."
   ]
  },
  {
   "cell_type": "code",
   "execution_count": 30,
   "id": "bdaa3b0c",
   "metadata": {},
   "outputs": [
    {
     "name": "stdout",
     "output_type": "stream",
     "text": [
      "1, 2, 3, 4, 5, 6, 7, 8, 9, 10, "
     ]
    }
   ],
   "source": [
    "def printOneToN(n):\n",
    "    if(n < 1):\n",
    "        return\n",
    "    \n",
    "    printOneToN(n-1)\n",
    "    print(n, end=\", \")\n",
    "\n",
    "# Calling function\n",
    "n = 10\n",
    "printOneToN(n)"
   ]
  }
 ],
 "metadata": {
  "kernelspec": {
   "display_name": "Python 3 (ipykernel)",
   "language": "python",
   "name": "python3"
  },
  "language_info": {
   "codemirror_mode": {
    "name": "ipython",
    "version": 3
   },
   "file_extension": ".py",
   "mimetype": "text/x-python",
   "name": "python",
   "nbconvert_exporter": "python",
   "pygments_lexer": "ipython3",
   "version": "3.9.13"
  }
 },
 "nbformat": 4,
 "nbformat_minor": 5
}
