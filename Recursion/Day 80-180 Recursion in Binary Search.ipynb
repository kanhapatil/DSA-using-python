{
 "cells": [
  {
   "cell_type": "markdown",
   "id": "336eb0a0",
   "metadata": {},
   "source": [
    "### 1. Given an array in non-increasing order, an element is given X, find if that element is present in the array or not. print 1 if its present else print 0."
   ]
  },
  {
   "cell_type": "code",
   "execution_count": 37,
   "id": "e12817b7",
   "metadata": {},
   "outputs": [
    {
     "data": {
      "text/plain": [
       "1"
      ]
     },
     "execution_count": 37,
     "metadata": {},
     "output_type": "execute_result"
    }
   ],
   "source": [
    "def searchX(arr, x, start, end):\n",
    "    # Base case\n",
    "    if start > end:\n",
    "        return 0\n",
    "\n",
    "    mid = start + (end - start) // 2\n",
    "    \n",
    "    if arr[mid] == x:\n",
    "        return 1\n",
    "    \n",
    "    elif arr[mid] > x:\n",
    "        # Recursive call\n",
    "        return searchX(arr, x, mid + 1, end)\n",
    "    \n",
    "    else:\n",
    "        # Recursive call\n",
    "        return searchX(arr, x, start, mid - 1)\n",
    "\n",
    "# Calling function\n",
    "arr = [8, 7, 5, 3, 1]\n",
    "x = 7\n",
    "start, end = 0, len(arr) - 1\n",
    "searchX(arr, x, start, end)"
   ]
  },
  {
   "cell_type": "markdown",
   "id": "9e2cafea",
   "metadata": {},
   "source": [
    "### 2. Write a recursive function to reverse the elements of an array."
   ]
  },
  {
   "cell_type": "code",
   "execution_count": 34,
   "id": "d0dfcaf3",
   "metadata": {},
   "outputs": [
    {
     "data": {
      "text/plain": [
       "[5, 4, 3, 2, 1]"
      ]
     },
     "execution_count": 34,
     "metadata": {},
     "output_type": "execute_result"
    }
   ],
   "source": [
    "def revArr(arr, start, end):\n",
    "    # Base case\n",
    "    if(start >= end):\n",
    "        return arr\n",
    "    \n",
    "    arr[start], arr[end-1] = arr[end-1], arr[start]\n",
    "    \n",
    "    # Recursive call\n",
    "    return revArr(arr, start+1, end-1)\n",
    "\n",
    "# Calling function\n",
    "arr = [1, 2, 3, 4, 5]\n",
    "start, end = 0, len(arr)\n",
    "\n",
    "revArr(arr, start, end)"
   ]
  },
  {
   "cell_type": "markdown",
   "id": "55477155",
   "metadata": {},
   "source": [
    "### 3. Write a recursive function to rotate elements in an array to the right by 1 position."
   ]
  },
  {
   "cell_type": "code",
   "execution_count": null,
   "id": "a6a672df",
   "metadata": {},
   "outputs": [],
   "source": []
  }
 ],
 "metadata": {
  "kernelspec": {
   "display_name": "Python 3 (ipykernel)",
   "language": "python",
   "name": "python3"
  },
  "language_info": {
   "codemirror_mode": {
    "name": "ipython",
    "version": 3
   },
   "file_extension": ".py",
   "mimetype": "text/x-python",
   "name": "python",
   "nbconvert_exporter": "python",
   "pygments_lexer": "ipython3",
   "version": "3.9.13"
  }
 },
 "nbformat": 4,
 "nbformat_minor": 5
}
