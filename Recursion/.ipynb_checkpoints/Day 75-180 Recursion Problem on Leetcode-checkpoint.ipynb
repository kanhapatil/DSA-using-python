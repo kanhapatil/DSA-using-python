{
 "cells": [
  {
   "cell_type": "markdown",
   "id": "9b6c9fad",
   "metadata": {},
   "source": [
    "### 1. Fibonacci Number\n",
    "- <a href=\"https://leetcode.com/problems/fibonacci-number/description/\" style='text-decoration:none'>Click me</a>"
   ]
  },
  {
   "cell_type": "code",
   "execution_count": 10,
   "id": "77b4ea3c",
   "metadata": {},
   "outputs": [
    {
     "data": {
      "text/plain": [
       "5"
      ]
     },
     "execution_count": 10,
     "metadata": {},
     "output_type": "execute_result"
    }
   ],
   "source": [
    "def fib(n):\n",
    "    # Base case\n",
    "    if(n <= 1):\n",
    "        return n\n",
    "    \n",
    "    return fib(n-2) + fib(n-1)\n",
    "\n",
    "# Calling function\n",
    "n = 5\n",
    "fib(n)"
   ]
  },
  {
   "cell_type": "markdown",
   "id": "19db1fdb",
   "metadata": {},
   "source": [
    "### 2. Climbing Stairs\n",
    "- <a href=\"https://leetcode.com/problems/climbing-stairs/description/\" style='text-decoration:none'>Click me</a>"
   ]
  },
  {
   "cell_type": "code",
   "execution_count": 13,
   "id": "840e6ecb",
   "metadata": {},
   "outputs": [
    {
     "data": {
      "text/plain": [
       "3"
      ]
     },
     "execution_count": 13,
     "metadata": {},
     "output_type": "execute_result"
    }
   ],
   "source": [
    "def climbStairs(n):\n",
    "    # Base case\n",
    "    if(n <= 1):\n",
    "        return 1\n",
    "    \n",
    "    return climbStairs(n-2) + climbStairs(n-1)\n",
    "\n",
    "# Calling function\n",
    "n = 3\n",
    "climbStairs(n)"
   ]
  },
  {
   "cell_type": "markdown",
   "id": "8765e0a6",
   "metadata": {},
   "source": [
    "### 3. GCD of two numbers\n",
    "- <a href=\"https://www.geeksforgeeks.org/problems/gcd-of-two-numbers3459/1?utm_source=geeksforgeeks&utm_medium=article_practice_tab&utm_campaign=article_practice_tab\" style='text-decoration:none'>Click me</a>"
   ]
  },
  {
   "cell_type": "code",
   "execution_count": 15,
   "id": "c707d42c",
   "metadata": {},
   "outputs": [
    {
     "data": {
      "text/plain": [
       "1"
      ]
     },
     "execution_count": 15,
     "metadata": {},
     "output_type": "execute_result"
    }
   ],
   "source": [
    "def gcd(a, b):\n",
    "    # Base case\n",
    "    if(b == 0):\n",
    "        return a\n",
    "    \n",
    "    return gcd(b, a % b)\n",
    "\n",
    "# Calling function\n",
    "a = 10\n",
    "b = 33\n",
    "gcd(a, b)"
   ]
  },
  {
   "cell_type": "markdown",
   "id": "beb07fcc",
   "metadata": {},
   "source": [
    "### 4. Count number of hops\n",
    "- <a href=\"https://www.geeksforgeeks.org/problems/count-number-of-hops-1587115620/1?utm_source=geeksforgeeks&utm_medium=ml_article_practice_tab&utm_campaign=article_practice_tab\" style='text-decoration:none'>Click me</a>"
   ]
  },
  {
   "cell_type": "code",
   "execution_count": 16,
   "id": "e6575887",
   "metadata": {},
   "outputs": [
    {
     "data": {
      "text/plain": [
       "13"
      ]
     },
     "execution_count": 16,
     "metadata": {},
     "output_type": "execute_result"
    }
   ],
   "source": [
    "def countWays(n):\n",
    "    # Base case 1\n",
    "    if(n <= 2):\n",
    "        return n\n",
    "    \n",
    "    # Special case\n",
    "    if(n == 3):\n",
    "        return 4\n",
    "    \n",
    "    return countWays(n-3) + countWays(n-2) + countWays(n-1)\n",
    "\n",
    "# Calling function\n",
    "n = 5\n",
    "countWays(n)"
   ]
  },
  {
   "cell_type": "markdown",
   "id": "e345036c",
   "metadata": {},
   "source": [
    "### 5. Fibonacci Series up to Nth term\n",
    "- <a href=\"https://www.geeksforgeeks.org/problems/fibonacci-series-up-to-nth-term/1?utm_source=geeksforgeeks&utm_medium=ml_article_practice_tab&utm_campaign=article_practice_tab\" style='text-decoration:none'>Click me</a>"
   ]
  },
  {
   "cell_type": "code",
   "execution_count": 28,
   "id": "9e08078f",
   "metadata": {},
   "outputs": [
    {
     "name": "stdout",
     "output_type": "stream",
     "text": [
      "0, 1, 1, 2, 3, "
     ]
    }
   ],
   "source": [
    "def helperFunc(n, a, b):\n",
    "    if(n > 0):\n",
    "        print(a, end=\", \")\n",
    "        helperFunc(n-1, b, a + b)\n",
    "\n",
    "def fibSeries(n):\n",
    "    # Call function\n",
    "    a, b = 0, 1\n",
    "    helperFunc(n, a, b)\n",
    "\n",
    "# Calling function\n",
    "n = 5\n",
    "fibSeries(n)"
   ]
  }
 ],
 "metadata": {
  "kernelspec": {
   "display_name": "Python 3 (ipykernel)",
   "language": "python",
   "name": "python3"
  },
  "language_info": {
   "codemirror_mode": {
    "name": "ipython",
    "version": 3
   },
   "file_extension": ".py",
   "mimetype": "text/x-python",
   "name": "python",
   "nbconvert_exporter": "python",
   "pygments_lexer": "ipython3",
   "version": "3.9.13"
  }
 },
 "nbformat": 4,
 "nbformat_minor": 5
}
