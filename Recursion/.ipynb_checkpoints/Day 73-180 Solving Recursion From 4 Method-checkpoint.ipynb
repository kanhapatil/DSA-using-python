{
 "cells": [
  {
   "cell_type": "markdown",
   "id": "f4dbdb2a",
   "metadata": {},
   "source": [
    "## 1. Print all odd numbers from 1 to n using recursion."
   ]
  },
  {
   "cell_type": "code",
   "execution_count": 2,
   "id": "fcca25e8",
   "metadata": {},
   "outputs": [
    {
     "name": "stdout",
     "output_type": "stream",
     "text": [
      "1, 3, 5, 7, 9, "
     ]
    }
   ],
   "source": [
    "def printOddOneToN(n):\n",
    "    # Base case\n",
    "    if(n < 1):\n",
    "        return\n",
    "    \n",
    "    printOddOneToN(n-2)\n",
    "    print(n, end=\", \")\n",
    "    \n",
    "# Calling function\n",
    "n = 10\n",
    "if(n % 2 != 0):\n",
    "    printOddOneToN(n)\n",
    "else:\n",
    "    printOddOneToN(n-1)"
   ]
  },
  {
   "cell_type": "markdown",
   "id": "fc29e053",
   "metadata": {},
   "source": [
    "## 2. Print all numbers from 10 to n using recursion, where n will be greater than 10."
   ]
  },
  {
   "cell_type": "code",
   "execution_count": 5,
   "id": "2bd5c9dd",
   "metadata": {},
   "outputs": [
    {
     "name": "stdout",
     "output_type": "stream",
     "text": [
      "10, 11, 12, "
     ]
    }
   ],
   "source": [
    "def printTenToN(n):\n",
    "    # Base case\n",
    "    if(n < 10):\n",
    "        return\n",
    "    \n",
    "    printTenToN(n-1)\n",
    "    print(n, end=\", \")\n",
    "\n",
    "# Calling function\n",
    "n = 12\n",
    "printTenToN(n)"
   ]
  },
  {
   "cell_type": "markdown",
   "id": "09be4f65",
   "metadata": {},
   "source": [
    "## 3. Write a Table program using recursion. Take input number n, and print its table."
   ]
  },
  {
   "cell_type": "code",
   "execution_count": 13,
   "id": "50f88889",
   "metadata": {},
   "outputs": [
    {
     "name": "stdout",
     "output_type": "stream",
     "text": [
      "5 * 1 = 5\n",
      "5 * 2 = 10\n",
      "5 * 3 = 15\n",
      "5 * 4 = 20\n",
      "5 * 5 = 25\n",
      "5 * 6 = 30\n",
      "5 * 7 = 35\n",
      "5 * 8 = 40\n",
      "5 * 9 = 45\n",
      "5 * 10 = 50\n"
     ]
    }
   ],
   "source": [
    "def printTable(tableOf, times):\n",
    "    # Base case\n",
    "    if(times < 1):\n",
    "        return\n",
    "    \n",
    "    printTable(tableOf, times-1)\n",
    "    print(\"{} * {} = {}\".format(tableOf, times, tableOf * times))\n",
    "\n",
    "# Calling function\n",
    "tableOf = 5\n",
    "times = 10\n",
    "printTable(tableOf, times)"
   ]
  }
 ],
 "metadata": {
  "kernelspec": {
   "display_name": "Python 3 (ipykernel)",
   "language": "python",
   "name": "python3"
  },
  "language_info": {
   "codemirror_mode": {
    "name": "ipython",
    "version": 3
   },
   "file_extension": ".py",
   "mimetype": "text/x-python",
   "name": "python",
   "nbconvert_exporter": "python",
   "pygments_lexer": "ipython3",
   "version": "3.9.13"
  }
 },
 "nbformat": 4,
 "nbformat_minor": 5
}
