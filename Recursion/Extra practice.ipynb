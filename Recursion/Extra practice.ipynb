{
 "cells": [
  {
   "cell_type": "code",
   "execution_count": 7,
   "id": "d52162e2",
   "metadata": {},
   "outputs": [
    {
     "name": "stdout",
     "output_type": "stream",
     "text": [
      "Raja Ram, Raja Ram, Raja Ram, Raja Ram, Raja Ram, Raja Ram, Raja Ram, Raja Ram, Raja Ram, Raja Ram, "
     ]
    }
   ],
   "source": [
    "def printRam(n):\n",
    "    if n == 0:\n",
    "        return \n",
    "    printRam(n-1)\n",
    "    print(\"Raja Ram\", end=\", \")\n",
    "\n",
    "n = 10\n",
    "printRam(n)"
   ]
  },
  {
   "cell_type": "code",
   "execution_count": 15,
   "id": "661a1a79",
   "metadata": {},
   "outputs": [
    {
     "name": "stdout",
     "output_type": "stream",
     "text": [
      "9\n",
      "7\n",
      "5\n",
      "3\n",
      "1\n"
     ]
    }
   ],
   "source": [
    "# odd number n to 1\n",
    "def odd(n):\n",
    "    if(n < 1):\n",
    "        return\n",
    "    print(n)\n",
    "    return odd(n-2)\n",
    "\n",
    "n = 9\n",
    "odd(n)"
   ]
  },
  {
   "cell_type": "code",
   "execution_count": 18,
   "id": "4a642b45",
   "metadata": {},
   "outputs": [
    {
     "name": "stdout",
     "output_type": "stream",
     "text": [
      "1 2 3 4 5 6 7 8 9 10 "
     ]
    }
   ],
   "source": [
    "def oneTon(n):\n",
    "    if(n == 0):\n",
    "        return\n",
    "    oneTon(n-1)\n",
    "    print(n, end=\" \")\n",
    "\n",
    "n = 10\n",
    "oneTon(n)"
   ]
  },
  {
   "cell_type": "code",
   "execution_count": 19,
   "id": "daf6d2a8",
   "metadata": {},
   "outputs": [
    {
     "name": "stdout",
     "output_type": "stream",
     "text": [
      "11\n",
      "12\n",
      "13\n",
      "14\n",
      "15\n"
     ]
    }
   ],
   "source": [
    "def tenToN(n):\n",
    "    if(n == 10):\n",
    "        return\n",
    "    \n",
    "    tenToN(n-1)\n",
    "    print(n)\n",
    "\n",
    "n = 15\n",
    "tenToN(n)"
   ]
  },
  {
   "cell_type": "code",
   "execution_count": 30,
   "id": "0f448e3d",
   "metadata": {},
   "outputs": [
    {
     "name": "stdout",
     "output_type": "stream",
     "text": [
      "5 * 1 = 5\n"
     ]
    }
   ],
   "source": [
    "def table(n, times):\n",
    "    if(times == 0):\n",
    "        return\n",
    "    \n",
    "    table(n, times-1)\n",
    "    print(f\"{n} * {times} = {n * times}\")\n",
    "\n",
    "n = 5\n",
    "times = 1\n",
    "table(n, times)"
   ]
  },
  {
   "cell_type": "code",
   "execution_count": 40,
   "id": "8a9e487b",
   "metadata": {},
   "outputs": [
    {
     "data": {
      "text/plain": [
       "36"
      ]
     },
     "execution_count": 40,
     "metadata": {},
     "output_type": "execute_result"
    }
   ],
   "source": [
    "def sumofcube(n):\n",
    "    if(n < 1):\n",
    "        return 0\n",
    "    \n",
    "    return n ** 3 + sumofcube(n-1)\n",
    "\n",
    "n = 3\n",
    "sumofcube(n)"
   ]
  },
  {
   "cell_type": "code",
   "execution_count": 32,
   "id": "2bc75f5d",
   "metadata": {},
   "outputs": [
    {
     "data": {
      "text/plain": [
       "36"
      ]
     },
     "execution_count": 32,
     "metadata": {},
     "output_type": "execute_result"
    }
   ],
   "source": [
    "1 + 8 + 27"
   ]
  },
  {
   "cell_type": "code",
   "execution_count": 47,
   "id": "dd2097f9",
   "metadata": {},
   "outputs": [
    {
     "data": {
      "text/plain": [
       "True"
      ]
     },
     "execution_count": 47,
     "metadata": {},
     "output_type": "execute_result"
    }
   ],
   "source": [
    "def isPowerFour(n):\n",
    "    if(n == 1):\n",
    "        return True\n",
    "    \n",
    "    if(n <= 0 or n % 4 != 0):\n",
    "        return False\n",
    "    \n",
    "    return isPowerFour(n // 4)\n",
    "\n",
    "n = 16\n",
    "isPowerFour(n)"
   ]
  },
  {
   "cell_type": "code",
   "execution_count": 61,
   "id": "e0f39df7",
   "metadata": {},
   "outputs": [
    {
     "data": {
      "text/plain": [
       "True"
      ]
     },
     "execution_count": 61,
     "metadata": {},
     "output_type": "execute_result"
    }
   ],
   "source": [
    "def checkPrime(n, divisor):\n",
    "    if(divisor <= 1):\n",
    "        return True\n",
    "    \n",
    "    if(n % divisor == 0):\n",
    "        return False\n",
    "    \n",
    "    return checkPrime(n, divisor-1)\n",
    "\n",
    "n = 13\n",
    "divisor = n-1\n",
    "checkPrime(n, divisor)"
   ]
  },
  {
   "cell_type": "code",
   "execution_count": 67,
   "id": "bbe204c3",
   "metadata": {},
   "outputs": [
    {
     "data": {
      "text/plain": [
       "13"
      ]
     },
     "execution_count": 67,
     "metadata": {},
     "output_type": "execute_result"
    }
   ],
   "source": [
    "def fib(n):\n",
    "    if(n <= 1):\n",
    "        return n\n",
    "    \n",
    "    return fib(n-2) + fib(n-1)\n",
    "\n",
    "n = 7\n",
    "fib(n)"
   ]
  },
  {
   "cell_type": "code",
   "execution_count": null,
   "id": "cc6c45fd",
   "metadata": {},
   "outputs": [],
   "source": []
  }
 ],
 "metadata": {
  "kernelspec": {
   "display_name": "Python 3 (ipykernel)",
   "language": "python",
   "name": "python3"
  },
  "language_info": {
   "codemirror_mode": {
    "name": "ipython",
    "version": 3
   },
   "file_extension": ".py",
   "mimetype": "text/x-python",
   "name": "python",
   "nbconvert_exporter": "python",
   "pygments_lexer": "ipython3",
   "version": "3.9.13"
  }
 },
 "nbformat": 4,
 "nbformat_minor": 5
}
