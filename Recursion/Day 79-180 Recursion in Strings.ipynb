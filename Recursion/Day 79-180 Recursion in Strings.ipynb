{
 "cells": [
  {
   "cell_type": "markdown",
   "id": "8e54f4b2",
   "metadata": {},
   "source": [
    "## 1. Palindrome String\n",
    "- <a href=\"https://www.geeksforgeeks.org/problems/palindrome-string0817/1?utm_source=geeksforgeeks&utm_medium=ml_article_practice_tab&utm_campaign=article_practice_tab%255C\" style=\"text-decoration:none\">Click Me</a>"
   ]
  },
  {
   "cell_type": "code",
   "execution_count": 27,
   "id": "f3521517",
   "metadata": {},
   "outputs": [
    {
     "data": {
      "text/plain": [
       "True"
      ]
     },
     "execution_count": 27,
     "metadata": {},
     "output_type": "execute_result"
    }
   ],
   "source": [
    "def helpMe(string, start, end):\n",
    "    # Base case\n",
    "    if start >= end:\n",
    "        return True\n",
    "    \n",
    "    elif string[start] == string[end - 1]:\n",
    "        return helpMe(string, start + 1, end - 1)\n",
    "    else:\n",
    "        return False\n",
    "\n",
    "def isPalindrome(string):\n",
    "    # Call function\n",
    "    start, end = 0, len(string)\n",
    "    return helpMe(string, start, end)\n",
    "\n",
    "# Calling function\n",
    "string = \"nitin\"\n",
    "isPalindrome(string)"
   ]
  },
  {
   "cell_type": "markdown",
   "id": "49b4c62f",
   "metadata": {},
   "source": [
    "## 2. Lower case to upper case\n",
    "- <a href=\"https://www.geeksforgeeks.org/problems/lower-case-to-upper-case3410/1?utm_source=geeksforgeeks&utm_medium=ml_article_practice_tab&utm_campaign=article_practice_tab\" style=\"text-decoration:none\">Click Me</a>"
   ]
  },
  {
   "cell_type": "code",
   "execution_count": 37,
   "id": "3abcb5c0",
   "metadata": {},
   "outputs": [
    {
     "data": {
      "text/plain": [
       "'KANHA'"
      ]
     },
     "execution_count": 37,
     "metadata": {},
     "output_type": "execute_result"
    }
   ],
   "source": [
    "def helpMe(string, n):\n",
    "    # Base case\n",
    "    if n < 1:\n",
    "        return\n",
    "\n",
    "    # Convert the current character to uppercase\n",
    "    string[n - 1] = string[n - 1].upper()\n",
    "\n",
    "    helpMe(string, n - 1)\n",
    "\n",
    "def to_upper(string):\n",
    "    # Convert the string to a list of characters\n",
    "    char_list = list(string)\n",
    "\n",
    "    # Call the helper function\n",
    "    n = len(char_list)\n",
    "    helpMe(char_list, n)\n",
    "\n",
    "    # Convert the list back to a string\n",
    "    result_string = ''.join(char_list)\n",
    "    \n",
    "    # Print or return the result\n",
    "    return result_string\n",
    "\n",
    "# Calling function\n",
    "string = \"kanha\"\n",
    "to_upper(string)"
   ]
  },
  {
   "cell_type": "markdown",
   "id": "655eb685",
   "metadata": {},
   "source": [
    "## 3. Convert String to LowerCase\n",
    "- <a href=\"https://www.geeksforgeeks.org/problems/java-convert-string-to-lowercase2313/1?utm_source=geeksforgeeks&utm_medium=ml_article_practice_tab&utm_campaign=article_practice_tab\" style=\"text-decoration:none\">Click Me</a>"
   ]
  },
  {
   "cell_type": "code",
   "execution_count": 40,
   "id": "4bc77e27",
   "metadata": {},
   "outputs": [
    {
     "data": {
      "text/plain": [
       "'kanhapatil'"
      ]
     },
     "execution_count": 40,
     "metadata": {},
     "output_type": "execute_result"
    }
   ],
   "source": [
    "def helpMe(string, n):\n",
    "    if(n < 1):\n",
    "        return \n",
    "    \n",
    "    string[n-1] = string[n-1].lower()\n",
    "    \n",
    "    helpMe(string, n-1)\n",
    "\n",
    "def toLower(string):\n",
    "    # Convert string to list\n",
    "    string = list(string)\n",
    "    \n",
    "    # Call function\n",
    "    n = len(string)\n",
    "    helpMe(string, n)\n",
    "    \n",
    "    # Join the list of characters\n",
    "    result = \"\".join(string)\n",
    "    \n",
    "    return result\n",
    "\n",
    "# Calling function\n",
    "string = \"kanhaPatil\"\n",
    "toLower(string)"
   ]
  },
  {
   "cell_type": "markdown",
   "id": "5806f9f8",
   "metadata": {},
   "source": [
    "## 4. Reverse a String\n",
    "- <a href=\"https://www.geeksforgeeks.org/problems/java-reverse-a-string0416/1?utm_source=geeksforgeeks&utm_medium=ml_article_practice_tab&utm_campaign=article_practice_tab\" style=\"text-decoration:none\">Click Me</a>"
   ]
  },
  {
   "cell_type": "code",
   "execution_count": 50,
   "id": "bd9aadde",
   "metadata": {},
   "outputs": [
    {
     "data": {
      "text/plain": [
       "'kanha patil'"
      ]
     },
     "execution_count": 50,
     "metadata": {},
     "output_type": "execute_result"
    }
   ],
   "source": [
    "def helpMe(string, start, end):\n",
    "    # Base case\n",
    "    if(start >= end):\n",
    "        return \n",
    "    \n",
    "    string[start], string[end-1] = string[end-1], string[start]\n",
    "    \n",
    "    helpMe(string, start+1, end-1)\n",
    "\n",
    "def revStr(string):\n",
    "    # Convert string to list\n",
    "    string = list(string)\n",
    "    \n",
    "    # Call function\n",
    "    start, end = 0, len(string)\n",
    "    helpMe(string, start, end)\n",
    "    \n",
    "    # Result\n",
    "    result = \"\".join(string)\n",
    "    \n",
    "    return result\n",
    "\n",
    "# Calling function\n",
    "string = \"litap ahnak\"\n",
    "revStr(string)"
   ]
  },
  {
   "cell_type": "markdown",
   "id": "e3ca0216",
   "metadata": {},
   "source": [
    "## 5. Given a String, count the number of consonants in it."
   ]
  },
  {
   "cell_type": "code",
   "execution_count": 4,
   "id": "87100297",
   "metadata": {},
   "outputs": [
    {
     "data": {
      "text/plain": [
       "34"
      ]
     },
     "execution_count": 4,
     "metadata": {},
     "output_type": "execute_result"
    }
   ],
   "source": [
    "def countConsonants(string, n):\n",
    "    # Base case\n",
    "    if(n < 1):\n",
    "        return 0\n",
    "    \n",
    "    if(string[n-1] != 'a' and string[n-1] != 'e' and string[n-1] != 'i' and string[n-1] != 'o' and string[n-1] != 'u'):\n",
    "        return 1 + countConsonants(string, n-1)\n",
    "    else:\n",
    "        return countConsonants(string, n-1)\n",
    "\n",
    "# Calling function\n",
    "string = \"Hi, I'm kanha patil, a software developer at CIS\"\n",
    "n = len(string)\n",
    "countConsonants(string, n)"
   ]
  }
 ],
 "metadata": {
  "kernelspec": {
   "display_name": "Python 3 (ipykernel)",
   "language": "python",
   "name": "python3"
  },
  "language_info": {
   "codemirror_mode": {
    "name": "ipython",
    "version": 3
   },
   "file_extension": ".py",
   "mimetype": "text/x-python",
   "name": "python",
   "nbconvert_exporter": "python",
   "pygments_lexer": "ipython3",
   "version": "3.9.13"
  }
 },
 "nbformat": 4,
 "nbformat_minor": 5
}
