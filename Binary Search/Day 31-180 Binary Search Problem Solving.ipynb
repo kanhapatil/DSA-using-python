{
 "cells": [
  {
   "cell_type": "markdown",
   "id": "f5f437c0",
   "metadata": {},
   "source": [
    "### 1. Find First and Last Position of Element in Sorted Array\n",
    "- <a href=\"https://leetcode.com/problems/find-first-and-last-position-of-element-in-sorted-array/description/\" style=\"text-decoration:none\">Click Me</a>"
   ]
  },
  {
   "cell_type": "code",
   "execution_count": 16,
   "id": "d9f1d2fa",
   "metadata": {},
   "outputs": [
    {
     "name": "stdout",
     "output_type": "stream",
     "text": [
      "Target range: [3, 4]\n"
     ]
    }
   ],
   "source": [
    "def searchRange(nums, target):\n",
    "    # Initialize start and end indices for finding the first occurrence of target\n",
    "    start, end = 0, len(nums) - 1\n",
    "    result = [-1, -1]  # Initialize a result list to store the range\n",
    "    \n",
    "    # Search for the first position of the target\n",
    "    while start <= end:\n",
    "        mid = start + (end - start) // 2\n",
    "        \n",
    "        # If target is found, update the result and search in the left half\n",
    "        if nums[mid] == target:\n",
    "            result[0] = mid\n",
    "            end = mid - 1\n",
    "            \n",
    "        # If target is smaller, search in the left half\n",
    "        elif nums[mid] > target:\n",
    "            end = mid - 1\n",
    "        \n",
    "        # If target is larger, search in the right half\n",
    "        else:\n",
    "            start = mid + 1\n",
    "    \n",
    "    # Re-initialize start and end indices for finding the last occurrence of target\n",
    "    start, end = 0, len(nums) - 1\n",
    "    while start <= end:\n",
    "        mid = start + (end - start) // 2\n",
    "        \n",
    "        # If target is found, update the result and search in the right half\n",
    "        if nums[mid] == target:\n",
    "            result[1] = mid\n",
    "            start = mid + 1\n",
    "            \n",
    "        # If target is smaller, search in the left half\n",
    "        elif nums[mid] > target:\n",
    "            end = mid - 1\n",
    "            \n",
    "        # If target is larger, search in the right half\n",
    "        else:\n",
    "            start = mid + 1\n",
    "            \n",
    "    return result\n",
    "\n",
    "# Example usage:\n",
    "nums = [5, 7, 7, 8, 8, 10]\n",
    "target = 8\n",
    "result = searchRange(nums, target)\n",
    "print(\"Target range:\", result)"
   ]
  },
  {
   "cell_type": "markdown",
   "id": "e04fd84f",
   "metadata": {},
   "source": [
    "### 2. Sqrt(x)\n",
    "- <a href=\"https://leetcode.com/problems/sqrtx/description/\" style=\"text-decoration:none\">Click Me</a>"
   ]
  },
  {
   "cell_type": "code",
   "execution_count": 28,
   "id": "0eb0516a",
   "metadata": {},
   "outputs": [
    {
     "name": "stdout",
     "output_type": "stream",
     "text": [
      "Square root of 64 is approximately: 8\n"
     ]
    }
   ],
   "source": [
    "def mySqrt(x):\n",
    "    # Initialize start and end indices for binary search in the range [0, x]\n",
    "    start, end = 0, x\n",
    "    \n",
    "    while start <= end:\n",
    "        # Calculate the middle value\n",
    "        mid = start + (end - start) // 2\n",
    "        \n",
    "        # Check if the square of mid is equal to x\n",
    "        if mid == x // mid:\n",
    "            return mid\n",
    "        \n",
    "        # If square of mid is greater than x, search in the left half\n",
    "        elif mid > x // mid:\n",
    "            end = mid - 1\n",
    "        \n",
    "        # If square of mid is less than x, update the answer and search in the right half\n",
    "        else:\n",
    "            ans = mid\n",
    "            start = mid + 1\n",
    "    \n",
    "    # Return the floor value of the square root\n",
    "    return ans\n",
    "\n",
    "# Example usage:\n",
    "x = 64\n",
    "result = mySqrt(x)\n",
    "print(\"Square root of\", x, \"is approximately:\", result)"
   ]
  },
  {
   "cell_type": "markdown",
   "id": "5f9738b6",
   "metadata": {},
   "source": [
    "### 3. Count the Zeros\n",
    "- <a href=\"https://www.geeksforgeeks.org/problems/count-the-zeros2550/1?page=1&difficulty%5B%5D=0&category%5B%5D=Searching&sortBy=submissions\" style=\"text-decoration:none\">Click Me</a>"
   ]
  },
  {
   "cell_type": "code",
   "execution_count": 44,
   "id": "1167ef5f",
   "metadata": {},
   "outputs": [
    {
     "name": "stdout",
     "output_type": "stream",
     "text": [
      "Count of zeroes in the array: 3\n"
     ]
    }
   ],
   "source": [
    "def countZeroes(arr, n):\n",
    "    # Initialize start and end indices for binary search\n",
    "    start, end = 0, n - 1\n",
    "    \n",
    "    # Base case: if the entire array consists of either 0 or 1, return the length of the array\n",
    "    if arr[0] == arr[n - 1]:\n",
    "        return len(arr)\n",
    "    \n",
    "    while start <= end:\n",
    "        # Calculate the middle index\n",
    "        mid = start + (end - start) // 2\n",
    "        \n",
    "        # If the middle element is 1, update the answer and search in the right half\n",
    "        if arr[mid] == 1:\n",
    "            ans = mid\n",
    "            start = mid + 1\n",
    "            \n",
    "        # If the middle element is not 0, search in the right half\n",
    "        elif arr[mid] != 0:\n",
    "            start = mid + 1\n",
    "            \n",
    "        # If the middle element is 0, search in the left half\n",
    "        else:\n",
    "            end = mid - 1\n",
    "            \n",
    "    # Return the count of 0s in the array by subtracting the index of the last 1 from the total length\n",
    "    return n - ans - 1\n",
    "\n",
    "# Example usage:\n",
    "arr = [1, 1, 1, 1, 1, 1, 1, 0, 0, 0]\n",
    "n = len(arr)\n",
    "result = countZeroes(arr, n)\n",
    "print(\"Count of zeroes in the array:\", result)"
   ]
  },
  {
   "cell_type": "markdown",
   "id": "464b6d1e",
   "metadata": {},
   "source": [
    "### 4. Number of occurrence\n",
    "- <a href=\"https://www.geeksforgeeks.org/problems/number-of-occurrence2259/1?utm_source=geeksforgeeks&utm_medium=article_practice_tab&utm_campaign=article_practice_tab\" style=\"text-decoration:none\">Click Me</a>"
   ]
  },
  {
   "cell_type": "code",
   "execution_count": 63,
   "id": "7b90cd06",
   "metadata": {},
   "outputs": [
    {
     "name": "stdout",
     "output_type": "stream",
     "text": [
      "Count of occurrences of 2 in the array: 4\n"
     ]
    }
   ],
   "source": [
    "def count(arr, n, x):\n",
    "    # Initialize start and end indices for finding the first occurrence of x\n",
    "    start, end = 0, n - 1\n",
    "    result = [-1, -1]  # Initialize a result list to store the range\n",
    "    \n",
    "    # Search for the first position of x\n",
    "    while start <= end:\n",
    "        mid = start + (end - start) // 2\n",
    "        \n",
    "        # If x is found, update the result and search in the left half\n",
    "        if arr[mid] == x:\n",
    "            result[0] = mid\n",
    "            end = mid - 1\n",
    "            \n",
    "        # If x is smaller, search in the left half\n",
    "        elif arr[mid] > x:\n",
    "            end = mid - 1\n",
    "        \n",
    "        # If x is larger, search in the right half\n",
    "        else:\n",
    "            start = mid + 1\n",
    "    \n",
    "    # Re-initialize start and end indices for finding the last occurrence of x\n",
    "    start, end = 0, n - 1\n",
    "    while start <= end:\n",
    "        mid = start + (end - start) // 2\n",
    "        \n",
    "        # If x is found, update the result and search in the right half\n",
    "        if arr[mid] == x:\n",
    "            result[1] = mid\n",
    "            start = mid + 1\n",
    "            \n",
    "        # If x is smaller, search in the left half\n",
    "        elif arr[mid] > x:\n",
    "            end = mid - 1\n",
    "            \n",
    "        # If x is larger, search in the right half\n",
    "        else:\n",
    "            start = mid + 1\n",
    "            \n",
    "    # Return the count of occurrences of x in the array\n",
    "    if(result[0] == -1):\n",
    "        return 0 \n",
    "    else:\n",
    "        return result[1] - result[0] + 1\n",
    "\n",
    "# Example usage:\n",
    "arr = [1, 1, 2, 2, 2, 2, 3]\n",
    "n = len(arr)\n",
    "x = 2\n",
    "result = count(arr, n, x)\n",
    "print(\"Count of occurrences of\", x, \"in the array:\", result)"
   ]
  },
  {
   "cell_type": "markdown",
   "id": "073761e4",
   "metadata": {},
   "source": [
    "### 5. Cube root of a number\n",
    "- <a href=\"https://www.geeksforgeeks.org/problems/cube-root-of-a-number0915/1?utm_source=geeksforgeeks&utm_medium=article_practice_tab&utm_campaign=article_practice_tab\" style=\"text-decoration:none\">Click Me</a>"
   ]
  },
  {
   "cell_type": "code",
   "execution_count": 66,
   "id": "d9c83a57",
   "metadata": {},
   "outputs": [
    {
     "name": "stdout",
     "output_type": "stream",
     "text": [
      "Cube root of 27 is approximately: 3\n"
     ]
    }
   ],
   "source": [
    "def cubeRoot(N):\n",
    "    # Initialize start and end indices for binary search in the range [0, N]\n",
    "    start, end = 0, N\n",
    "        \n",
    "    while start <= end:\n",
    "        # Calculate the middle value\n",
    "        mid = start + (end - start) // 2\n",
    "            \n",
    "        # Check if the cube of mid is equal to N\n",
    "        if mid * mid * mid == N:\n",
    "            return mid\n",
    "                \n",
    "        # If cube of mid is greater than N, search in the left half\n",
    "        elif mid * mid * mid > N:\n",
    "            end = mid - 1\n",
    "                \n",
    "        # If cube of mid is less than N, update the answer and search in the right half\n",
    "        else:\n",
    "            ans = mid\n",
    "            start = mid + 1\n",
    "                \n",
    "    # Return the floor value of the cube root\n",
    "    return ans\n",
    "\n",
    "# Example usage:\n",
    "N = 27\n",
    "result = cubeRoot(N)\n",
    "print(\"Cube root of\", N, \"is approximately:\", result)"
   ]
  },
  {
   "cell_type": "markdown",
   "id": "57d4adf6",
   "metadata": {},
   "source": [
    "### 6. Kth Missing Positive Number\n",
    "- <a href=\"https://leetcode.com/problems/kth-missing-positive-number/\" style=\"text-decoration:none\">Click Me</a>"
   ]
  },
  {
   "cell_type": "code",
   "execution_count": 71,
   "id": "7c2e5a67",
   "metadata": {},
   "outputs": [
    {
     "name": "stdout",
     "output_type": "stream",
     "text": [
      "The 5 th missing positive integer is: 9\n"
     ]
    }
   ],
   "source": [
    "def findKthPositive(arr, k):\n",
    "    # Initialize start and end indices for binary search\n",
    "    start, end = 0, len(arr) - 1\n",
    "    \n",
    "    while start <= end:\n",
    "        # Calculate the middle index\n",
    "        mid = start + (end - start) // 2\n",
    "        \n",
    "        # Check if the missing count between arr[mid] and mid+1 is less than k\n",
    "        if arr[mid] - mid - 1 < k:\n",
    "            start = mid + 1\n",
    "            \n",
    "        # If the missing count is greater than or equal to k, search in the left half\n",
    "        else:\n",
    "            end = mid - 1\n",
    "            \n",
    "    # Return the kth missing positive integer\n",
    "    return start + k\n",
    "    \n",
    "# Example usage:\n",
    "arr = [2, 3, 4, 7, 11]\n",
    "k = 5\n",
    "result = findKthPositive(arr, k)\n",
    "print(\"The\", k, \"th missing positive integer is:\", result)"
   ]
  }
 ],
 "metadata": {
  "kernelspec": {
   "display_name": "Python 3 (ipykernel)",
   "language": "python",
   "name": "python3"
  },
  "language_info": {
   "codemirror_mode": {
    "name": "ipython",
    "version": 3
   },
   "file_extension": ".py",
   "mimetype": "text/x-python",
   "name": "python",
   "nbconvert_exporter": "python",
   "pygments_lexer": "ipython3",
   "version": "3.9.13"
  }
 },
 "nbformat": 4,
 "nbformat_minor": 5
}
