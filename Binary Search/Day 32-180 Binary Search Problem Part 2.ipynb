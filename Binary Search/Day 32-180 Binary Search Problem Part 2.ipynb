{
 "cells": [
  {
   "cell_type": "markdown",
   "id": "a898f67f",
   "metadata": {},
   "source": [
    "### 1. Peak Index in a Mountain Array\n",
    "- <a href=\"https://leetcode.com/problems/peak-index-in-a-mountain-array/description/\" style=\"text-decoration:none\">Click Me</a>"
   ]
  },
  {
   "cell_type": "code",
   "execution_count": 3,
   "id": "cfe3edba",
   "metadata": {},
   "outputs": [
    {
     "name": "stdout",
     "output_type": "stream",
     "text": [
      "Peak index in the mountain array: 1\n"
     ]
    }
   ],
   "source": [
    "def peakIndexInMountainArray(arr):\n",
    "    # Initialize start and end indices for binary search\n",
    "    start, end = 0, len(arr) - 1\n",
    "    \n",
    "    while start <= end:\n",
    "        # Calculate the middle index\n",
    "        mid = start + (end - start) // 2\n",
    "        \n",
    "        # Check if the current element is a peak (larger than its neighbors)\n",
    "        if arr[mid] > arr[mid + 1] and arr[mid] > arr[mid - 1]:\n",
    "            return mid\n",
    "            \n",
    "        # If the current element is greater than its left neighbor, search in the right half\n",
    "        elif arr[mid] > arr[mid - 1]:\n",
    "            start = mid + 1\n",
    "            \n",
    "        # If the current element is smaller than its left neighbor, search in the left half\n",
    "        elif arr[mid] < arr[mid - 1]:\n",
    "            end = mid - 1\n",
    "\n",
    "# Example usage:\n",
    "arr = [0, 1, 0]\n",
    "result = peakIndexInMountainArray(arr)\n",
    "print(\"Peak index in the mountain array:\", result)"
   ]
  },
  {
   "cell_type": "markdown",
   "id": "b0c65be8",
   "metadata": {},
   "source": [
    "### 2. Find Minimum in Rotated Sorted Array\n",
    "- <a href=\"https://leetcode.com/problems/find-minimum-in-rotated-sorted-array/description/\" style=\"text-decoration:none\">Click Me</a>"
   ]
  },
  {
   "cell_type": "code",
   "execution_count": 27,
   "id": "13d7c7aa",
   "metadata": {},
   "outputs": [
    {
     "name": "stdout",
     "output_type": "stream",
     "text": [
      "Minimum element in the rotated sorted array: 2\n"
     ]
    }
   ],
   "source": [
    "def findMin(nums):\n",
    "    # Initialize start and end indices for binary search\n",
    "    start, end = 0, len(nums) - 1\n",
    "    n = len(nums)\n",
    "\n",
    "    while start <= end:\n",
    "        # Case 1: If the subarray is already sorted, return the minimum element\n",
    "        if nums[start] <= nums[end]:\n",
    "            return nums[start]\n",
    "\n",
    "        mid = start + (end - start) // 2\n",
    "\n",
    "        # Check if the middle element is the minimum in the rotated array\n",
    "        if nums[mid] <= (nums[mid+1] % n) and nums[mid] <= (nums[mid-1] % n):\n",
    "            return nums[mid]\n",
    "\n",
    "        # If the middle element is smaller than or equal to the last element,\n",
    "        # search in the left half; otherwise, search in the right half\n",
    "        elif nums[mid] <= nums[end]:\n",
    "            end = mid - 1\n",
    "        else:\n",
    "            start = mid + 1\n",
    "\n",
    "# Example usage:\n",
    "nums = [10, 5, 2]\n",
    "result = findMin(nums)\n",
    "print(\"Minimum element in the rotated sorted array:\", result)"
   ]
  },
  {
   "cell_type": "markdown",
   "id": "c08befcd",
   "metadata": {},
   "source": [
    "### 3. Search in Rotated Sorted Array\n",
    "- <a href=\"https://leetcode.com/problems/search-in-rotated-sorted-array/description/\" style=\"text-decoration:none\">Click Me</a>"
   ]
  },
  {
   "cell_type": "code",
   "execution_count": 49,
   "id": "d8875f67",
   "metadata": {},
   "outputs": [
    {
     "name": "stdout",
     "output_type": "stream",
     "text": [
      "Index of the target in the rotated sorted array: 4\n"
     ]
    }
   ],
   "source": [
    "def search(nums, target):\n",
    "    # Initialize start and end indices for binary search\n",
    "    start, end = 0, len(nums) - 1\n",
    "    \n",
    "    while start <= end:\n",
    "        # Calculate the middle index\n",
    "        mid = start + (end - start) // 2\n",
    "        \n",
    "        # Check if the middle element is the target\n",
    "        if nums[mid] == target:\n",
    "            return mid\n",
    "        \n",
    "        # Check if the left part is sorted\n",
    "        elif nums[start] <= nums[mid]:\n",
    "            # If the target is within the sorted left part, search in the left half\n",
    "            if target >= nums[start] and target < nums[mid]:\n",
    "                end = mid - 1\n",
    "            # Otherwise, search in the right half\n",
    "            else:\n",
    "                start = mid + 1\n",
    "        \n",
    "        # If the left part is not sorted, the right part must be sorted\n",
    "        else:\n",
    "            # If the target is within the sorted right part, search in the right half\n",
    "            if target >= nums[mid] and target <= nums[end]:\n",
    "                start = mid + 1\n",
    "            # Otherwise, search in the left half\n",
    "            else:\n",
    "                end = mid - 1\n",
    "                \n",
    "    # If the target is not found, return -1\n",
    "    return -1\n",
    "\n",
    "# Example usage:\n",
    "nums = [4, 5, 6, 7, 0, 1, 2]\n",
    "target = 0\n",
    "result = search(nums, target)\n",
    "print(\"Index of the target in the rotated sorted array:\", result)"
   ]
  },
  {
   "cell_type": "markdown",
   "id": "84035418",
   "metadata": {},
   "source": [
    "### 4. Find Peak Element\n",
    "- <a href=\"https://leetcode.com/problems/find-peak-element/description/\" style=\"text-decoration:none\">Click Me</a>"
   ]
  },
  {
   "cell_type": "code",
   "execution_count": 47,
   "id": "09762454",
   "metadata": {},
   "outputs": [
    {
     "name": "stdout",
     "output_type": "stream",
     "text": [
      "Index of the peak element: 2\n"
     ]
    }
   ],
   "source": [
    "def findPeakElement(nums):\n",
    "    # Initialize start and end indices for binary search\n",
    "    start, end = 0, len(nums) - 1\n",
    "    \n",
    "    while start <= end:\n",
    "        # Calculate the middle index\n",
    "        mid = start + (end - start) // 2\n",
    "        \n",
    "        # Check if the middle element is a peak\n",
    "        if (mid == 0 or nums[mid] > nums[mid - 1]) and (mid == len(nums) - 1 or nums[mid] > nums[mid + 1]):\n",
    "            return mid\n",
    "        \n",
    "        # If the element to the right of the middle is greater, search in the right half\n",
    "        elif nums[mid] < nums[mid + 1]:\n",
    "            start = mid + 1\n",
    "            \n",
    "        # If the element to the left of the middle is greater, search in the left half\n",
    "        else:\n",
    "            end = mid - 1\n",
    "            \n",
    "    # If no peak is found, return -1\n",
    "    return -1\n",
    "\n",
    "# Example usage:\n",
    "nums = [1, 2, 3, 0]\n",
    "result = findPeakElement(nums)\n",
    "print(\"Index of the peak element:\", result)"
   ]
  },
  {
   "cell_type": "markdown",
   "id": "bb92420d",
   "metadata": {},
   "source": [
    "### 5. Valid Perfect Square\n",
    "- <a href=\"https://leetcode.com/problems/valid-perfect-square/description/\" style=\"text-decoration:none\">Click Me</a>"
   ]
  },
  {
   "cell_type": "code",
   "execution_count": 60,
   "id": "364a41c9",
   "metadata": {},
   "outputs": [
    {
     "name": "stdout",
     "output_type": "stream",
     "text": [
      "Is 4 a perfect square? True\n"
     ]
    }
   ],
   "source": [
    "def isPerfectSquare(num):\n",
    "    # Initialize start and end indices for binary search\n",
    "    start, end = 1, num\n",
    "    \n",
    "    while start <= end:\n",
    "        # Calculate the middle value\n",
    "        mid = start + (end - start) // 2\n",
    "        \n",
    "        # Check if the square of mid is equal to the given number\n",
    "        if mid * mid == num:\n",
    "            return True\n",
    "        \n",
    "        # If the square of mid is greater than the number, search in the left half\n",
    "        elif mid * mid > num:\n",
    "            end = mid - 1\n",
    "            \n",
    "        # If the square of mid is less than the number, search in the right half\n",
    "        else:\n",
    "            start = mid + 1\n",
    "            \n",
    "    # If no perfect square is found, return False\n",
    "    return False\n",
    "\n",
    "# Example usage:\n",
    "num = 4\n",
    "result = isPerfectSquare(num)\n",
    "print(\"Is\", num, \"a perfect square?\", result)"
   ]
  },
  {
   "cell_type": "markdown",
   "id": "31051216",
   "metadata": {},
   "source": [
    "### 6. Search in Rotated Sorted Array II\n",
    "- <a href=\"https://leetcode.com/problems/search-in-rotated-sorted-array-ii/description/\" style=\"text-decoration:none\">Click Me</a>"
   ]
  },
  {
   "cell_type": "code",
   "execution_count": 61,
   "id": "4e9b3d4c",
   "metadata": {},
   "outputs": [
    {
     "name": "stdout",
     "output_type": "stream",
     "text": [
      "Is 0 present in the rotated sorted array? True\n"
     ]
    }
   ],
   "source": [
    "def search(nums, target):\n",
    "    # Initialize start and end indices for binary search\n",
    "    start, end = 0, len(nums)\n",
    "    \n",
    "    while start <= end:\n",
    "        # Calculate the middle index\n",
    "        mid = start + (end - start) // 2\n",
    "        \n",
    "        # Check if the middle element is the target\n",
    "        if nums[mid] == target:\n",
    "            return True\n",
    "        \n",
    "        # Check if the left part is sorted\n",
    "        elif nums[start] < nums[mid]:\n",
    "            # If the target is within the sorted left part, search in the left half\n",
    "            if target >= nums[start] and target <= nums[mid]:\n",
    "                end = mid - 1\n",
    "            # Otherwise, search in the right half\n",
    "            else:\n",
    "                start = mid + 1\n",
    "        \n",
    "        # Check if the right part is sorted\n",
    "        elif nums[mid] < nums[end]:\n",
    "            # If the target is within the sorted right part, search in the right half\n",
    "            if target >= nums[mid] and target <= nums[end]:\n",
    "                start = mid + 1\n",
    "            # Otherwise, search in the left half\n",
    "            else:\n",
    "                end = mid - 1\n",
    "        \n",
    "        # If duplicates are present, move the start pointer\n",
    "        else:\n",
    "            start += 1\n",
    "            \n",
    "    # If the target is not found, return False\n",
    "    return False\n",
    "\n",
    "# Example usage:\n",
    "nums = [2, 5, 6, 0, 0, 1, 2]\n",
    "target = 0\n",
    "result = search(nums, target)\n",
    "print(\"Is\", target, \"present in the rotated sorted array?\", result)"
   ]
  },
  {
   "cell_type": "markdown",
   "id": "cf4fbaca",
   "metadata": {},
   "source": [
    "### 7. Special Array With X Elements Greater Than or Equal X\n",
    "- <a href=\"https://leetcode.com/problems/special-array-with-x-elements-greater-than-or-equal-x/description/\" style=\"text-decoration:none\">Click Me</a>"
   ]
  },
  {
   "cell_type": "code",
   "execution_count": 62,
   "id": "88bca94c",
   "metadata": {},
   "outputs": [],
   "source": [
    "def specialArray(nums):\n",
    "    pass\n",
    "\n",
    "nums = [0,4,3,0,4]\n",
    "specialArray(nums)"
   ]
  }
 ],
 "metadata": {
  "kernelspec": {
   "display_name": "Python 3 (ipykernel)",
   "language": "python",
   "name": "python3"
  },
  "language_info": {
   "codemirror_mode": {
    "name": "ipython",
    "version": 3
   },
   "file_extension": ".py",
   "mimetype": "text/x-python",
   "name": "python",
   "nbconvert_exporter": "python",
   "pygments_lexer": "ipython3",
   "version": "3.9.13"
  }
 },
 "nbformat": 4,
 "nbformat_minor": 5
}
