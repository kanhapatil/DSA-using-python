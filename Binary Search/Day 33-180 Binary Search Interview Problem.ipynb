{
 "cells": [
  {
   "cell_type": "markdown",
   "id": "72f48aa1",
   "metadata": {},
   "source": [
    "### 1. Allocate minimum number of pages\n",
    "- <a href=\"https://www.geeksforgeeks.org/problems/allocate-minimum-number-of-pages0937/1?utm_source=geeksforgeeks&utm_medium=article_practice_tab&utm_campaign=article_practice_tab\" style=\"text-decoration:none\">Click Me</a>"
   ]
  },
  {
   "cell_type": "code",
   "execution_count": null,
   "id": "4c290dc6",
   "metadata": {},
   "outputs": [],
   "source": []
  },
  {
   "cell_type": "markdown",
   "id": "4c6be205",
   "metadata": {},
   "source": [
    "### 2. The Painter's Partition Problem-II\n",
    "- <a href=\"https://www.geeksforgeeks.org/problems/the-painters-partition-problem1535/1?utm_source=geeksforgeeks&utm_medium=ml_article_practice_tab&utm_campaign=article_practice_tab\" style=\"text-decoration:none\">Click Me</a>"
   ]
  },
  {
   "cell_type": "code",
   "execution_count": null,
   "id": "0a0f618c",
   "metadata": {},
   "outputs": [],
   "source": []
  },
  {
   "cell_type": "markdown",
   "id": "0c08f0be",
   "metadata": {},
   "source": [
    "### 3. Capacity To Ship Packages Within D Days\n",
    "- <a href=\"https://leetcode.com/problems/capacity-to-ship-packages-within-d-days/description/\" style=\"text-decoration:none\">Click Me</a>"
   ]
  },
  {
   "cell_type": "code",
   "execution_count": null,
   "id": "64f4e262",
   "metadata": {},
   "outputs": [],
   "source": []
  },
  {
   "cell_type": "markdown",
   "id": "bc8cb7df",
   "metadata": {},
   "source": [
    "### 4. Koko Eating Bananas\n",
    "- <a href=\"https://leetcode.com/problems/koko-eating-bananas/description/\" style=\"text-decoration:none\">Click Me</a>"
   ]
  },
  {
   "cell_type": "code",
   "execution_count": null,
   "id": "8994843d",
   "metadata": {},
   "outputs": [],
   "source": []
  },
  {
   "cell_type": "markdown",
   "id": "99bcbcdc",
   "metadata": {},
   "source": [
    "### 5. Split Array Largest Sum\n",
    "- <a href=\"https://www.geeksforgeeks.org/problems/split-array-largest-sum--141634/1?utm_source=geeksforgeeks&utm_medium=article_practice_tab&utm_campaign=article_practice_tab\" style=\"text-decoration:none\">Click Me</a>"
   ]
  },
  {
   "cell_type": "code",
   "execution_count": null,
   "id": "e3503a3f",
   "metadata": {},
   "outputs": [],
   "source": []
  }
 ],
 "metadata": {
  "kernelspec": {
   "display_name": "Python 3 (ipykernel)",
   "language": "python",
   "name": "python3"
  },
  "language_info": {
   "codemirror_mode": {
    "name": "ipython",
    "version": 3
   },
   "file_extension": ".py",
   "mimetype": "text/x-python",
   "name": "python",
   "nbconvert_exporter": "python",
   "pygments_lexer": "ipython3",
   "version": "3.9.13"
  }
 },
 "nbformat": 4,
 "nbformat_minor": 5
}
