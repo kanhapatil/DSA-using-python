{
 "cells": [
  {
   "cell_type": "markdown",
   "id": "6e7e8843",
   "metadata": {},
   "source": [
    "### 1. An array is given in decreasing order with Key, Find the index of key, if key is not present, print -1"
   ]
  },
  {
   "cell_type": "code",
   "execution_count": 19,
   "id": "0a1b2098",
   "metadata": {},
   "outputs": [
    {
     "name": "stdout",
     "output_type": "stream",
     "text": [
      "Key present at index no: 5\n"
     ]
    }
   ],
   "source": [
    "def findKeyIndex(arr, n, key):\n",
    "    # Initialize the start and end indices for binary search\n",
    "    start, end = 0, n-1\n",
    "    \n",
    "    # Perform binary search until the search space is exhausted\n",
    "    while(start <= end):\n",
    "        # Calculate the middle index\n",
    "        mid = start + (end - start) // 2\n",
    "        \n",
    "        # Check if the key is present at the middle index\n",
    "        if(arr[mid] == key):\n",
    "            return mid\n",
    "        \n",
    "        # If key is smaller than mid of arr, search in the right half\n",
    "        elif(arr[mid] > key):\n",
    "            start = mid + 1\n",
    "            \n",
    "        # If key is larger than mid of arr, search in the left half\n",
    "        else:\n",
    "            end = mid - 1\n",
    "            \n",
    "    # If the key is not present in the array, return -1\n",
    "    return -1\n",
    "\n",
    "# Example usage:\n",
    "arr = [10, 9, 7, 5, 4, 2, 1]\n",
    "n = len(arr)\n",
    "key = 2\n",
    "result = findKeyIndex(arr, n, key)\n",
    "print(\"Key present at index no:\", result)"
   ]
  },
  {
   "cell_type": "markdown",
   "id": "ce5d8764",
   "metadata": {},
   "source": [
    "### 2. Search Insert Position\n",
    "- <a href=\"https://leetcode.com/problems/search-insert-position/description/\" style=\"text-decoration:none\">Click Me</a>"
   ]
  },
  {
   "cell_type": "code",
   "execution_count": 37,
   "id": "6fa5e020",
   "metadata": {},
   "outputs": [
    {
     "name": "stdout",
     "output_type": "stream",
     "text": [
      "Target should be inserted at index: 1\n"
     ]
    }
   ],
   "source": [
    "def searchInsert(nums, target):\n",
    "    # Initialize start and end indices for binary search\n",
    "    start, end = 0, len(nums) - 1\n",
    "    \n",
    "    # Perform binary search until the search space is exhausted\n",
    "    while start <= end:\n",
    "        # Calculate the middle index\n",
    "        mid = start + (end - start) // 2\n",
    "        \n",
    "        # Check if the target is found at the middle index\n",
    "        if nums[mid] == target:\n",
    "            return mid \n",
    "        \n",
    "        # If target is smaller than the middle element, search in the left half\n",
    "        elif nums[mid] > target:\n",
    "            end = mid - 1\n",
    "        \n",
    "        # If target is larger than the middle element, search in the right half\n",
    "        else:\n",
    "            start = mid + 1\n",
    "            \n",
    "    # If the target is not found, return the position where it should be inserted\n",
    "    return start\n",
    "\n",
    "# Example usage:\n",
    "nums = [1, 3, 5, 6]\n",
    "target = 2\n",
    "position = searchInsert(nums, target)\n",
    "print(\"Target should be inserted at index:\", position)"
   ]
  }
 ],
 "metadata": {
  "kernelspec": {
   "display_name": "Python 3 (ipykernel)",
   "language": "python",
   "name": "python3"
  },
  "language_info": {
   "codemirror_mode": {
    "name": "ipython",
    "version": 3
   },
   "file_extension": ".py",
   "mimetype": "text/x-python",
   "name": "python",
   "nbconvert_exporter": "python",
   "pygments_lexer": "ipython3",
   "version": "3.9.13"
  }
 },
 "nbformat": 4,
 "nbformat_minor": 5
}
